{
 "cells": [
  {
   "cell_type": "markdown",
   "id": "6e14eb3c-7c50-46f9-881f-f42ad2d0d091",
   "metadata": {},
   "source": [
    "# Improving Model"
   ]
  },
  {
   "cell_type": "code",
   "execution_count": 1,
   "id": "b6b0011f-80ed-477f-a9a0-1d5539976106",
   "metadata": {},
   "outputs": [],
   "source": [
    "import pandas as pd\n",
    "import numpy as np\n",
    "import matplotlib.pyplot as plt\n",
    "\n",
    "from sklearn.linear_model import LinearRegression, Lasso, Ridge, ElasticNet\n",
    "\n",
    "from sklearn.model_selection import train_test_split, cross_val_score, GridSearchCV\n",
    "\n",
    "from sklearn.preprocessing import StandardScaler\n",
    "\n",
    "from sklearn.pipeline import Pipeline"
   ]
  },
  {
   "cell_type": "markdown",
   "id": "ab256c12-8a8e-4243-841d-9696ccbba083",
   "metadata": {},
   "source": [
    "## Import DataStandardScaler"
   ]
  },
  {
   "cell_type": "code",
   "execution_count": 54,
   "id": "3184a292-74c0-44b4-9b03-8a0efc2fc9ca",
   "metadata": {},
   "outputs": [],
   "source": [
    "test = pd.read_csv('../datasets/test.csv')\n",
    "\n",
    "train_clean = pd.read_csv('../datasets/train_clean.csv')\n",
    "test_clean = pd.read_csv('../datasets/test_clean.csv')\n",
    "\n",
    "X_train = pd.read_csv('../datasets/X_train.csv')\n",
    "y_train = pd.read_csv('../datasets/y_train.csv')\n",
    "X_test = pd.read_csv('../datasets/X_test.csv')\n",
    "y_test = pd.read_csv('../datasets/y_test.csv')\n",
    "\n",
    "sample = pd.read_csv('../datasets/sample_sub_reg.csv')"
   ]
  },
  {
   "cell_type": "markdown",
   "id": "4570a2a7-ac21-4778-a896-f1c168d0b8cb",
   "metadata": {},
   "source": [
    "### Basline Prediction will be based off of Ground Living Area. A simple linear regression with the square footage of the house is the single best predictor, so any improvement made on that is considered a success. "
   ]
  },
  {
   "cell_type": "code",
   "execution_count": 66,
   "id": "da9e0829-33b4-4c93-9ec3-193d699bb2f0",
   "metadata": {},
   "outputs": [
    {
     "data": {
      "text/plain": [
       "0.5174936126630603"
      ]
     },
     "execution_count": 66,
     "metadata": {},
     "output_type": "execute_result"
    }
   ],
   "source": [
    "slr = LinearRegression()\n",
    "\n",
    "X = train_clean[['gr_liv_area']]\n",
    "y = train_clean['saleprice']\n",
    "\n",
    "slr.fit(X,y)\n",
    "\n",
    "slr.score(X,y)"
   ]
  },
  {
   "cell_type": "markdown",
   "id": "9f52d6a0-74c7-478b-a1bf-a1641171da3f",
   "metadata": {},
   "source": [
    "- R2 value shows that Ground Living Area explains about 50% of the variability in predicting sale price."
   ]
  },
  {
   "cell_type": "markdown",
   "id": "8eb99cbd-88b6-4bcd-b98e-80d00434d1e0",
   "metadata": {},
   "source": [
    "### Curent MLR Model Score"
   ]
  },
  {
   "cell_type": "code",
   "execution_count": 3,
   "id": "526e46c1-08ff-4ed4-ba0f-3674ae69d7fc",
   "metadata": {},
   "outputs": [],
   "source": [
    "explore = [\n",
    "    'neighborhood', \n",
    "    'paved_drive',\n",
    "    'gr_liv_area',\n",
    "    'overall_qual',\n",
    "    'garage_area',\n",
    "    'total_bsmt_sf',\n",
    "    'year_built',\n",
    "    'year_remod_add',\n",
    "    'mas_vnr_area',\n",
    "    'fireplaces',\n",
    "    'bsmtfin_sf_1',\n",
    "    'central_air']"
   ]
  },
  {
   "cell_type": "code",
   "execution_count": 4,
   "id": "19737023-23d8-4d92-a778-190a465c9a54",
   "metadata": {},
   "outputs": [],
   "source": [
    "X = train_clean[explore]\n",
    "y = train_clean['saleprice']"
   ]
  },
  {
   "cell_type": "code",
   "execution_count": 5,
   "id": "57d7e176-d6cc-4688-bda6-54f9af590769",
   "metadata": {},
   "outputs": [
    {
     "data": {
      "text/plain": [
       "(0.8752067233853532, 0.8838115691876284)"
      ]
     },
     "execution_count": 5,
     "metadata": {},
     "output_type": "execute_result"
    }
   ],
   "source": [
    "mlr = LinearRegression()\n",
    "mlr.fit(X_train, y_train)\n",
    "\n",
    "mlr.score(X_train, y_train), mlr.score(X_test, y_test)"
   ]
  },
  {
   "cell_type": "markdown",
   "id": "144ce670-d7ca-455d-a43f-5ca2821c97f4",
   "metadata": {},
   "source": [
    "## Vizualize the residuals"
   ]
  },
  {
   "cell_type": "code",
   "execution_count": 6,
   "id": "2e4ace00-ccfa-4bc0-8f0e-3e1cabfed91a",
   "metadata": {},
   "outputs": [],
   "source": [
    "preds = mlr.predict(X_train)"
   ]
  },
  {
   "cell_type": "code",
   "execution_count": 7,
   "id": "8197ea4b-d156-4147-a67d-544174fe099f",
   "metadata": {},
   "outputs": [],
   "source": [
    "residuals = y_train - preds"
   ]
  },
  {
   "cell_type": "code",
   "execution_count": 8,
   "id": "d76f917d-635d-4a30-9238-3395de6b70ae",
   "metadata": {},
   "outputs": [
    {
     "data": {
      "text/html": [
       "<div>\n",
       "<style scoped>\n",
       "    .dataframe tbody tr th:only-of-type {\n",
       "        vertical-align: middle;\n",
       "    }\n",
       "\n",
       "    .dataframe tbody tr th {\n",
       "        vertical-align: top;\n",
       "    }\n",
       "\n",
       "    .dataframe thead th {\n",
       "        text-align: right;\n",
       "    }\n",
       "</style>\n",
       "<table border=\"1\" class=\"dataframe\">\n",
       "  <thead>\n",
       "    <tr style=\"text-align: right;\">\n",
       "      <th></th>\n",
       "      <th>saleprice</th>\n",
       "    </tr>\n",
       "  </thead>\n",
       "  <tbody>\n",
       "    <tr>\n",
       "      <th>0</th>\n",
       "      <td>-2573.308138</td>\n",
       "    </tr>\n",
       "    <tr>\n",
       "      <th>1</th>\n",
       "      <td>11687.615862</td>\n",
       "    </tr>\n",
       "    <tr>\n",
       "      <th>2</th>\n",
       "      <td>13781.525444</td>\n",
       "    </tr>\n",
       "    <tr>\n",
       "      <th>3</th>\n",
       "      <td>-5971.500836</td>\n",
       "    </tr>\n",
       "    <tr>\n",
       "      <th>4</th>\n",
       "      <td>-12666.599488</td>\n",
       "    </tr>\n",
       "  </tbody>\n",
       "</table>\n",
       "</div>"
      ],
      "text/plain": [
       "      saleprice\n",
       "0  -2573.308138\n",
       "1  11687.615862\n",
       "2  13781.525444\n",
       "3  -5971.500836\n",
       "4 -12666.599488"
      ]
     },
     "execution_count": 8,
     "metadata": {},
     "output_type": "execute_result"
    }
   ],
   "source": [
    "residuals[:5]"
   ]
  },
  {
   "cell_type": "code",
   "execution_count": 74,
   "id": "c90480b9-b78b-4103-9669-4aab7993107f",
   "metadata": {},
   "outputs": [
    {
     "data": {
      "image/png": "[encoded data removed]",
      "text/plain": [
       "<Figure size 432x288 with 1 Axes>"
      ]
     },
     "metadata": {
      "needs_background": "light"
     },
     "output_type": "display_data"
    }
   ],
   "source": [
    "fig, ax = plt.subplots()\n",
    "\n",
    "plt.scatter(preds, residuals)\n",
    "plt.axhline(0, color='green')\n",
    "plt.title('Predicted vs. residual')\n",
    "plt.xlabel('Sale Price Prediction')\n",
    "plt.ylabel('Residual Errors')\n",
    "plt.savefig('../images/predicted_vs_residuals');"
   ]
  },
  {
   "cell_type": "markdown",
   "id": "77a00421-046c-46fa-9c74-76d244423036",
   "metadata": {},
   "source": [
    "- low and high valued houses are underprices(predicted less than what they are), whereas the majority of houses are slightly overpriced (predicted higher than they are).\n",
    "- The residuals are fairly consistant in varaince(Exept for a minority of expensive houses), so the assumption of even varaince is sufficient to make inferences."
   ]
  },
  {
   "cell_type": "markdown",
   "id": "fa3f4d3a-8e80-494f-b1ad-a85be8db2d10",
   "metadata": {},
   "source": [
    "## Using StandarScalar to normalize the data and fit to a Multiple Linear Regression"
   ]
  },
  {
   "cell_type": "code",
   "execution_count": 9,
   "id": "664d4172-1b17-40fc-847d-1e4a559fd3cd",
   "metadata": {},
   "outputs": [
    {
     "name": "stdout",
     "output_type": "stream",
     "text": [
      "Train set R-squared value:  0.8752067216701609 \n",
      "\n",
      "Test set R-squared value:  0.8838124360379913 \n",
      "\n",
      "Intercept:  [180322.27011014] \n",
      "\n"
     ]
    }
   ],
   "source": [
    "ss_mlr_pipe = Pipeline([\n",
    "    ('ss', StandardScaler()),\n",
    "    ('mlr', LinearRegression())\n",
    "])\n",
    "\n",
    "ss_mlr_pipe.fit(X_train, y_train)\n",
    "\n",
    "print('Train set R-squared value: ', ss_mlr_pipe.score(X_train, y_train), '\\n')\n",
    "print('Test set R-squared value: ', ss_mlr_pipe.score(X_test, y_test), '\\n')\n",
    "print('Intercept: ', ss_mlr_pipe['mlr'].intercept_, '\\n')"
   ]
  },
  {
   "cell_type": "markdown",
   "id": "926ae31e-cd6a-46c8-a4ea-553ff9c907ee",
   "metadata": {},
   "source": [
    "## Regularize with Lasso"
   ]
  },
  {
   "cell_type": "code",
   "execution_count": 38,
   "id": "91dd9598-3810-4140-beb2-b5b0bb7f36a8",
   "metadata": {},
   "outputs": [
    {
     "name": "stdout",
     "output_type": "stream",
     "text": [
      "Train set R-squared value:  0.8752067184544402 \n",
      "\n",
      "Test set R-squared value:  0.8838107236985275 \n",
      "\n",
      "Intercept:  [180322.2026862] \n",
      "\n"
     ]
    },
    {
     "data": {
      "text/html": [
       "<div>\n",
       "<style scoped>\n",
       "    .dataframe tbody tr th:only-of-type {\n",
       "        vertical-align: middle;\n",
       "    }\n",
       "\n",
       "    .dataframe tbody tr th {\n",
       "        vertical-align: top;\n",
       "    }\n",
       "\n",
       "    .dataframe thead th {\n",
       "        text-align: right;\n",
       "    }\n",
       "</style>\n",
       "<table border=\"1\" class=\"dataframe\">\n",
       "  <thead>\n",
       "    <tr style=\"text-align: right;\">\n",
       "      <th></th>\n",
       "      <th>0</th>\n",
       "      <th>1</th>\n",
       "    </tr>\n",
       "  </thead>\n",
       "  <tbody>\n",
       "    <tr>\n",
       "      <th>0</th>\n",
       "      <td>paved_drive</td>\n",
       "      <td>-1176.364090</td>\n",
       "    </tr>\n",
       "    <tr>\n",
       "      <th>1</th>\n",
       "      <td>gr_liv_area</td>\n",
       "      <td>23906.038107</td>\n",
       "    </tr>\n",
       "    <tr>\n",
       "      <th>2</th>\n",
       "      <td>overall_qual</td>\n",
       "      <td>19398.228606</td>\n",
       "    </tr>\n",
       "    <tr>\n",
       "      <th>3</th>\n",
       "      <td>garage_area</td>\n",
       "      <td>8086.704475</td>\n",
       "    </tr>\n",
       "    <tr>\n",
       "      <th>4</th>\n",
       "      <td>total_bsmt_sf</td>\n",
       "      <td>9148.642604</td>\n",
       "    </tr>\n",
       "    <tr>\n",
       "      <th>5</th>\n",
       "      <td>year_built</td>\n",
       "      <td>7273.391408</td>\n",
       "    </tr>\n",
       "    <tr>\n",
       "      <th>6</th>\n",
       "      <td>year_remod_add</td>\n",
       "      <td>7373.921630</td>\n",
       "    </tr>\n",
       "    <tr>\n",
       "      <th>7</th>\n",
       "      <td>mas_vnr_area</td>\n",
       "      <td>6219.880533</td>\n",
       "    </tr>\n",
       "    <tr>\n",
       "      <th>8</th>\n",
       "      <td>fireplaces</td>\n",
       "      <td>4390.271917</td>\n",
       "    </tr>\n",
       "    <tr>\n",
       "      <th>9</th>\n",
       "      <td>bsmtfin_sf_1</td>\n",
       "      <td>10756.828884</td>\n",
       "    </tr>\n",
       "    <tr>\n",
       "      <th>10</th>\n",
       "      <td>central_air</td>\n",
       "      <td>-959.915874</td>\n",
       "    </tr>\n",
       "    <tr>\n",
       "      <th>11</th>\n",
       "      <td>neighborhood_Blmngtn</td>\n",
       "      <td>-0.000000</td>\n",
       "    </tr>\n",
       "    <tr>\n",
       "      <th>12</th>\n",
       "      <td>neighborhood_Blueste</td>\n",
       "      <td>-1032.299504</td>\n",
       "    </tr>\n",
       "    <tr>\n",
       "      <th>13</th>\n",
       "      <td>neighborhood_BrDale</td>\n",
       "      <td>-2495.719139</td>\n",
       "    </tr>\n",
       "    <tr>\n",
       "      <th>14</th>\n",
       "      <td>neighborhood_BrkSide</td>\n",
       "      <td>2021.976247</td>\n",
       "    </tr>\n",
       "    <tr>\n",
       "      <th>15</th>\n",
       "      <td>neighborhood_ClearCr</td>\n",
       "      <td>384.010991</td>\n",
       "    </tr>\n",
       "    <tr>\n",
       "      <th>16</th>\n",
       "      <td>neighborhood_CollgCr</td>\n",
       "      <td>201.799471</td>\n",
       "    </tr>\n",
       "    <tr>\n",
       "      <th>17</th>\n",
       "      <td>neighborhood_Crawfor</td>\n",
       "      <td>3691.168048</td>\n",
       "    </tr>\n",
       "    <tr>\n",
       "      <th>18</th>\n",
       "      <td>neighborhood_Edwards</td>\n",
       "      <td>-285.930722</td>\n",
       "    </tr>\n",
       "    <tr>\n",
       "      <th>19</th>\n",
       "      <td>neighborhood_Gilbert</td>\n",
       "      <td>-173.599040</td>\n",
       "    </tr>\n",
       "    <tr>\n",
       "      <th>20</th>\n",
       "      <td>neighborhood_Greens</td>\n",
       "      <td>-496.465256</td>\n",
       "    </tr>\n",
       "    <tr>\n",
       "      <th>21</th>\n",
       "      <td>neighborhood_GrnHill</td>\n",
       "      <td>2335.109527</td>\n",
       "    </tr>\n",
       "    <tr>\n",
       "      <th>22</th>\n",
       "      <td>neighborhood_IDOTRR</td>\n",
       "      <td>37.024187</td>\n",
       "    </tr>\n",
       "    <tr>\n",
       "      <th>23</th>\n",
       "      <td>neighborhood_Landmrk</td>\n",
       "      <td>-472.493110</td>\n",
       "    </tr>\n",
       "    <tr>\n",
       "      <th>24</th>\n",
       "      <td>neighborhood_MeadowV</td>\n",
       "      <td>-981.883556</td>\n",
       "    </tr>\n",
       "    <tr>\n",
       "      <th>25</th>\n",
       "      <td>neighborhood_Mitchel</td>\n",
       "      <td>-261.256815</td>\n",
       "    </tr>\n",
       "    <tr>\n",
       "      <th>26</th>\n",
       "      <td>neighborhood_NAmes</td>\n",
       "      <td>-185.966874</td>\n",
       "    </tr>\n",
       "    <tr>\n",
       "      <th>27</th>\n",
       "      <td>neighborhood_NPkVill</td>\n",
       "      <td>-1422.670175</td>\n",
       "    </tr>\n",
       "    <tr>\n",
       "      <th>28</th>\n",
       "      <td>neighborhood_NWAmes</td>\n",
       "      <td>-2764.776611</td>\n",
       "    </tr>\n",
       "    <tr>\n",
       "      <th>29</th>\n",
       "      <td>neighborhood_NoRidge</td>\n",
       "      <td>3154.783078</td>\n",
       "    </tr>\n",
       "    <tr>\n",
       "      <th>30</th>\n",
       "      <td>neighborhood_NridgHt</td>\n",
       "      <td>8090.269037</td>\n",
       "    </tr>\n",
       "    <tr>\n",
       "      <th>31</th>\n",
       "      <td>neighborhood_OldTown</td>\n",
       "      <td>-290.417313</td>\n",
       "    </tr>\n",
       "    <tr>\n",
       "      <th>32</th>\n",
       "      <td>neighborhood_SWISU</td>\n",
       "      <td>-92.465288</td>\n",
       "    </tr>\n",
       "    <tr>\n",
       "      <th>33</th>\n",
       "      <td>neighborhood_Sawyer</td>\n",
       "      <td>603.466835</td>\n",
       "    </tr>\n",
       "    <tr>\n",
       "      <th>34</th>\n",
       "      <td>neighborhood_SawyerW</td>\n",
       "      <td>-1266.055125</td>\n",
       "    </tr>\n",
       "    <tr>\n",
       "      <th>35</th>\n",
       "      <td>neighborhood_Somerst</td>\n",
       "      <td>1674.852581</td>\n",
       "    </tr>\n",
       "    <tr>\n",
       "      <th>36</th>\n",
       "      <td>neighborhood_StoneBr</td>\n",
       "      <td>8024.833848</td>\n",
       "    </tr>\n",
       "    <tr>\n",
       "      <th>37</th>\n",
       "      <td>neighborhood_Timber</td>\n",
       "      <td>667.390116</td>\n",
       "    </tr>\n",
       "    <tr>\n",
       "      <th>38</th>\n",
       "      <td>neighborhood_Veenker</td>\n",
       "      <td>351.163455</td>\n",
       "    </tr>\n",
       "  </tbody>\n",
       "</table>\n",
       "</div>"
      ],
      "text/plain": [
       "                       0             1\n",
       "0            paved_drive  -1176.364090\n",
       "1            gr_liv_area  23906.038107\n",
       "2           overall_qual  19398.228606\n",
       "3            garage_area   8086.704475\n",
       "4          total_bsmt_sf   9148.642604\n",
       "5             year_built   7273.391408\n",
       "6         year_remod_add   7373.921630\n",
       "7           mas_vnr_area   6219.880533\n",
       "8             fireplaces   4390.271917\n",
       "9           bsmtfin_sf_1  10756.828884\n",
       "10           central_air   -959.915874\n",
       "11  neighborhood_Blmngtn     -0.000000\n",
       "12  neighborhood_Blueste  -1032.299504\n",
       "13   neighborhood_BrDale  -2495.719139\n",
       "14  neighborhood_BrkSide   2021.976247\n",
       "15  neighborhood_ClearCr    384.010991\n",
       "16  neighborhood_CollgCr    201.799471\n",
       "17  neighborhood_Crawfor   3691.168048\n",
       "18  neighborhood_Edwards   -285.930722\n",
       "19  neighborhood_Gilbert   -173.599040\n",
       "20   neighborhood_Greens   -496.465256\n",
       "21  neighborhood_GrnHill   2335.109527\n",
       "22   neighborhood_IDOTRR     37.024187\n",
       "23  neighborhood_Landmrk   -472.493110\n",
       "24  neighborhood_MeadowV   -981.883556\n",
       "25  neighborhood_Mitchel   -261.256815\n",
       "26    neighborhood_NAmes   -185.966874\n",
       "27  neighborhood_NPkVill  -1422.670175\n",
       "28   neighborhood_NWAmes  -2764.776611\n",
       "29  neighborhood_NoRidge   3154.783078\n",
       "30  neighborhood_NridgHt   8090.269037\n",
       "31  neighborhood_OldTown   -290.417313\n",
       "32    neighborhood_SWISU    -92.465288\n",
       "33   neighborhood_Sawyer    603.466835\n",
       "34  neighborhood_SawyerW  -1266.055125\n",
       "35  neighborhood_Somerst   1674.852581\n",
       "36  neighborhood_StoneBr   8024.833848\n",
       "37   neighborhood_Timber    667.390116\n",
       "38  neighborhood_Veenker    351.163455"
      ]
     },
     "execution_count": 38,
     "metadata": {},
     "output_type": "execute_result"
    }
   ],
   "source": [
    "ss_lasso_pipe = Pipeline([\n",
    "    ('ss', StandardScaler()),\n",
    "    ('lasso', Lasso(max_iter=5_000))\n",
    "])\n",
    "\n",
    "ss_lasso_pipe.fit(X_train, y_train)\n",
    "\n",
    "print('Train set R-squared value: ', ss_lasso_pipe.score(X_train, y_train), '\\n')\n",
    "print('Test set R-squared value: ', ss_lasso_pipe.score(X_test, y_test), '\\n')\n",
    "print('Intercept: ', ss_lasso_pipe['lasso'].intercept_, '\\n')\n",
    "pd.DataFrame(zip(X_train.columns, ss_lasso_pipe['lasso'].coef_))"
   ]
  },
  {
   "cell_type": "markdown",
   "id": "c3490fe6-2aaf-47f8-b3cb-3e9a3a350d8c",
   "metadata": {},
   "source": [
    "#### - The only reduced feature is the neighborhood blmngtn"
   ]
  },
  {
   "cell_type": "code",
   "execution_count": 11,
   "id": "7dfa982e-6480-4008-a769-1a3ecf05abab",
   "metadata": {},
   "outputs": [
    {
     "data": {
      "text/plain": [
       "{'memory': None,\n",
       " 'steps': [('ss', StandardScaler()), ('lasso', Lasso(max_iter=5000))],\n",
       " 'verbose': False,\n",
       " 'ss': StandardScaler(),\n",
       " 'lasso': Lasso(max_iter=5000),\n",
       " 'ss__copy': True,\n",
       " 'ss__with_mean': True,\n",
       " 'ss__with_std': True,\n",
       " 'lasso__alpha': 1.0,\n",
       " 'lasso__copy_X': True,\n",
       " 'lasso__fit_intercept': True,\n",
       " 'lasso__max_iter': 5000,\n",
       " 'lasso__normalize': 'deprecated',\n",
       " 'lasso__positive': False,\n",
       " 'lasso__precompute': False,\n",
       " 'lasso__random_state': None,\n",
       " 'lasso__selection': 'cyclic',\n",
       " 'lasso__tol': 0.0001,\n",
       " 'lasso__warm_start': False}"
      ]
     },
     "execution_count": 11,
     "metadata": {},
     "output_type": "execute_result"
    }
   ],
   "source": [
    "ss_lasso_pipe.get_params()"
   ]
  },
  {
   "cell_type": "code",
   "execution_count": null,
   "id": "a786086c-a1cb-4bb2-80ea-d5784b747a6f",
   "metadata": {},
   "outputs": [],
   "source": []
  },
  {
   "cell_type": "markdown",
   "id": "c2fc7426-8a23-495e-9d2e-4e8388b9adf7",
   "metadata": {},
   "source": [
    "## Regularize with Ridge"
   ]
  },
  {
   "cell_type": "code",
   "execution_count": 12,
   "id": "cc0857a7-ee75-452c-9a9f-3d1df6cbdf65",
   "metadata": {},
   "outputs": [
    {
     "name": "stdout",
     "output_type": "stream",
     "text": [
      "Train set R-squared value:  0.8752066477322655 \n",
      "\n",
      "Test set R-squared value:  0.8838229167491605 \n",
      "\n",
      "Intercept:  [180322.2026862] \n",
      "\n"
     ]
    },
    {
     "data": {
      "text/plain": [
       "array([[-1.17209619e+03,  2.38879369e+04,  1.93807973e+04,\n",
       "         8.09083399e+03,  9.15358612e+03,  7.26146392e+03,\n",
       "         7.37683071e+03,  6.22379935e+03,  4.39788601e+03,\n",
       "         1.07493270e+04, -9.57960488e+02, -4.01537506e+02,\n",
       "        -1.27273614e+03, -2.86182751e+03,  1.22462336e+03,\n",
       "        -2.94458810e+01, -9.14354582e+02,  2.94310330e+03,\n",
       "        -1.29646946e+03, -1.08991634e+03, -6.35222919e+02,\n",
       "         2.23721987e+03, -6.48879596e+02, -5.71027384e+02,\n",
       "        -1.40939397e+03, -1.02680247e+03, -1.63560298e+03,\n",
       "        -1.80138168e+03, -3.56060089e+03,  2.60273563e+03,\n",
       "         7.14858889e+03, -1.36984636e+03, -5.71044775e+02,\n",
       "        -2.86609694e+02, -2.07177564e+03,  7.16546401e+02,\n",
       "         7.48610640e+03,  5.83120032e+01,  1.23733547e+00]])"
      ]
     },
     "execution_count": 12,
     "metadata": {},
     "output_type": "execute_result"
    }
   ],
   "source": [
    "ss_ridge_pipe = Pipeline([\n",
    "    ('ss', StandardScaler()),\n",
    "    ('ridge', Ridge())\n",
    "])\n",
    "\n",
    "ss_ridge_pipe.fit(X_train, y_train)\n",
    "\n",
    "print('Train set R-squared value: ', ss_ridge_pipe.score(X_train, y_train), '\\n')\n",
    "print('Test set R-squared value: ', ss_ridge_pipe.score(X_test, y_test), '\\n')\n",
    "print('Intercept: ', ss_ridge_pipe['ridge'].intercept_, '\\n')\n",
    "#pd.DataFrame(zip(X_train, ss_ridge_pipe['ridge'].coef_))\n",
    "ss_ridge_pipe['ridge'].coef_"
   ]
  },
  {
   "cell_type": "markdown",
   "id": "ef7637b9-68b9-4b93-964d-3cb337ab3392",
   "metadata": {},
   "source": [
    "## Regularize with ElasticNet"
   ]
  },
  {
   "cell_type": "code",
   "execution_count": 13,
   "id": "1d88144e-5f3b-427b-a844-63f666486d28",
   "metadata": {},
   "outputs": [
    {
     "name": "stdout",
     "output_type": "stream",
     "text": [
      "Train set R-squared value:  0.8587957479696271 \n",
      "\n",
      "Test set R-squared value:  0.8720802636643222 \n",
      "\n",
      "Intercept:  [180322.2026862] \n",
      "\n"
     ]
    },
    {
     "data": {
      "text/html": [
       "<div>\n",
       "<style scoped>\n",
       "    .dataframe tbody tr th:only-of-type {\n",
       "        vertical-align: middle;\n",
       "    }\n",
       "\n",
       "    .dataframe tbody tr th {\n",
       "        vertical-align: top;\n",
       "    }\n",
       "\n",
       "    .dataframe thead th {\n",
       "        text-align: right;\n",
       "    }\n",
       "</style>\n",
       "<table border=\"1\" class=\"dataframe\">\n",
       "  <thead>\n",
       "    <tr style=\"text-align: right;\">\n",
       "      <th></th>\n",
       "      <th>0</th>\n",
       "      <th>1</th>\n",
       "    </tr>\n",
       "  </thead>\n",
       "  <tbody>\n",
       "    <tr>\n",
       "      <th>0</th>\n",
       "      <td>paved_drive</td>\n",
       "      <td>652.541180</td>\n",
       "    </tr>\n",
       "    <tr>\n",
       "      <th>1</th>\n",
       "      <td>gr_liv_area</td>\n",
       "      <td>16413.967594</td>\n",
       "    </tr>\n",
       "    <tr>\n",
       "      <th>2</th>\n",
       "      <td>overall_qual</td>\n",
       "      <td>14093.304812</td>\n",
       "    </tr>\n",
       "    <tr>\n",
       "      <th>3</th>\n",
       "      <td>garage_area</td>\n",
       "      <td>8791.737758</td>\n",
       "    </tr>\n",
       "    <tr>\n",
       "      <th>4</th>\n",
       "      <td>total_bsmt_sf</td>\n",
       "      <td>9611.318180</td>\n",
       "    </tr>\n",
       "    <tr>\n",
       "      <th>5</th>\n",
       "      <td>year_built</td>\n",
       "      <td>5732.425955</td>\n",
       "    </tr>\n",
       "    <tr>\n",
       "      <th>6</th>\n",
       "      <td>year_remod_add</td>\n",
       "      <td>7296.038275</td>\n",
       "    </tr>\n",
       "    <tr>\n",
       "      <th>7</th>\n",
       "      <td>mas_vnr_area</td>\n",
       "      <td>6995.739306</td>\n",
       "    </tr>\n",
       "    <tr>\n",
       "      <th>8</th>\n",
       "      <td>fireplaces</td>\n",
       "      <td>6122.433837</td>\n",
       "    </tr>\n",
       "    <tr>\n",
       "      <th>9</th>\n",
       "      <td>bsmtfin_sf_1</td>\n",
       "      <td>7658.428254</td>\n",
       "    </tr>\n",
       "  </tbody>\n",
       "</table>\n",
       "</div>"
      ],
      "text/plain": [
       "                0             1\n",
       "0     paved_drive    652.541180\n",
       "1     gr_liv_area  16413.967594\n",
       "2    overall_qual  14093.304812\n",
       "3     garage_area   8791.737758\n",
       "4   total_bsmt_sf   9611.318180\n",
       "5      year_built   5732.425955\n",
       "6  year_remod_add   7296.038275\n",
       "7    mas_vnr_area   6995.739306\n",
       "8      fireplaces   6122.433837\n",
       "9    bsmtfin_sf_1   7658.428254"
      ]
     },
     "execution_count": 13,
     "metadata": {},
     "output_type": "execute_result"
    }
   ],
   "source": [
    "ss_en_pipe = Pipeline([\n",
    "    ('ss', StandardScaler()),\n",
    "    ('en', ElasticNet())\n",
    "])\n",
    "\n",
    "ss_en_pipe.fit(X_train, y_train)\n",
    "\n",
    "print('Train set R-squared value: ', ss_en_pipe.score(X_train, y_train), '\\n')\n",
    "print('Test set R-squared value: ', ss_en_pipe.score(X_test, y_test), '\\n')\n",
    "print('Intercept: ', ss_en_pipe['en'].intercept_, '\\n')\n",
    "pd.DataFrame(zip(X_train, ss_en_pipe['en'].coef_))[:10]\n",
    "#ss_en_pipe['en'].coef_"
   ]
  },
  {
   "cell_type": "markdown",
   "id": "9a10ad9c-c586-40da-95aa-ec77d51dd8fb",
   "metadata": {},
   "source": [
    "## Grid Search to test hyper parameters on model performance"
   ]
  },
  {
   "cell_type": "markdown",
   "id": "352fb155-eb37-4309-89d6-75ac6991d1f6",
   "metadata": {},
   "source": [
    "### Lasso"
   ]
  },
  {
   "cell_type": "code",
   "execution_count": 26,
   "id": "6edb2f4d-49f9-4e60-8a15-4d0d3036895e",
   "metadata": {},
   "outputs": [],
   "source": [
    "lasso_parameter = {'lasso__alpha': [1, 275, 276, 277, 278, 279, 280], 'lasso__max_iter': [10_000, 20_000]}"
   ]
  },
  {
   "cell_type": "code",
   "execution_count": 27,
   "id": "580d6d4b-45f0-4185-8362-f1d57420f96b",
   "metadata": {},
   "outputs": [
    {
     "data": {
      "text/plain": [
       "{'memory': None,\n",
       " 'steps': [('ss', StandardScaler()), ('lasso', Lasso())],\n",
       " 'verbose': False,\n",
       " 'ss': StandardScaler(),\n",
       " 'lasso': Lasso(),\n",
       " 'ss__copy': True,\n",
       " 'ss__with_mean': True,\n",
       " 'ss__with_std': True,\n",
       " 'lasso__alpha': 1.0,\n",
       " 'lasso__copy_X': True,\n",
       " 'lasso__fit_intercept': True,\n",
       " 'lasso__max_iter': 1000,\n",
       " 'lasso__normalize': 'deprecated',\n",
       " 'lasso__positive': False,\n",
       " 'lasso__precompute': False,\n",
       " 'lasso__random_state': None,\n",
       " 'lasso__selection': 'cyclic',\n",
       " 'lasso__tol': 0.0001,\n",
       " 'lasso__warm_start': False}"
      ]
     },
     "execution_count": 27,
     "metadata": {},
     "output_type": "execute_result"
    }
   ],
   "source": [
    "ss_lasso_pipe.get_params()"
   ]
  },
  {
   "cell_type": "code",
   "execution_count": 28,
   "id": "88176066-57b5-41fc-ada4-1ca9cab564bf",
   "metadata": {},
   "outputs": [
    {
     "name": "stdout",
     "output_type": "stream",
     "text": [
      "Fitting 5 folds for each of 14 candidates, totalling 70 fits\n"
     ]
    },
    {
     "data": {
      "text/plain": [
       "GridSearchCV(cv=5,\n",
       "             estimator=Pipeline(steps=[('ss', StandardScaler()),\n",
       "                                       ('lasso', Lasso())]),\n",
       "             param_grid={'lasso__alpha': [1, 275, 276, 277, 278, 279, 280],\n",
       "                         'lasso__max_iter': [10000, 20000]},\n",
       "             verbose=1)"
      ]
     },
     "execution_count": 28,
     "metadata": {},
     "output_type": "execute_result"
    }
   ],
   "source": [
    "ss_lasso_pipe = Pipeline([\n",
    "    ('ss', StandardScaler()),\n",
    "    ('lasso', Lasso())\n",
    "])\n",
    "\n",
    "grid_search = GridSearchCV(ss_lasso_pipe, param_grid=lasso_parameter, cv=5, verbose=1)\n",
    "\n",
    "grid_search.fit(X_train, y_train)\n"
   ]
  },
  {
   "cell_type": "code",
   "execution_count": 29,
   "id": "548d8d27-1b7b-4999-9c68-bad9f1ea16d0",
   "metadata": {},
   "outputs": [
    {
     "name": "stdout",
     "output_type": "stream",
     "text": [
      "Train set R-squared value:  0.874864668515747\n",
      "Test set R-squared value:  0.8833627311246904 \n",
      "\n",
      "Best Score:  0.8652977091104882\n",
      "Best Parameters:  {'lasso__alpha': 277, 'lasso__max_iter': 10000} \n",
      "\n",
      "Best Score on test data:  0.8833627311246904\n"
     ]
    }
   ],
   "source": [
    "print('Train set R-squared value: ', grid_search.score(X_train, y_train))\n",
    "print('Test set R-squared value: ', grid_search.score(X_test, y_test), '\\n')\n",
    "print('Best Score: ', grid_search.best_score_)\n",
    "print('Best Parameters: ', grid_search.best_params_, '\\n')\n",
    "print('Best Score on test data: ', grid_search.score(X_test, y_test))"
   ]
  },
  {
   "cell_type": "code",
   "execution_count": 30,
   "id": "288beaa6-3b30-451d-a8f4-b67aa5f0be84",
   "metadata": {},
   "outputs": [
    {
     "name": "stdout",
     "output_type": "stream",
     "text": [
      "Fitting 5 folds for each of 14 candidates, totalling 70 fits\n",
      "Fitting 5 folds for each of 14 candidates, totalling 70 fits\n",
      "Fitting 5 folds for each of 14 candidates, totalling 70 fits\n",
      "Fitting 5 folds for each of 14 candidates, totalling 70 fits\n",
      "Fitting 5 folds for each of 14 candidates, totalling 70 fits\n"
     ]
    },
    {
     "data": {
      "text/plain": [
       "array([0.84956645, 0.87893542, 0.87205984, 0.87394363, 0.85198295])"
      ]
     },
     "execution_count": 30,
     "metadata": {},
     "output_type": "execute_result"
    }
   ],
   "source": [
    "cross_val_score(grid_search, X_train, y_train)"
   ]
  },
  {
   "cell_type": "code",
   "execution_count": 31,
   "id": "2a8e1b0e-9c11-4e81-8658-2c5c0ca4aa3a",
   "metadata": {},
   "outputs": [
    {
     "name": "stdout",
     "output_type": "stream",
     "text": [
      "Fitting 5 folds for each of 14 candidates, totalling 70 fits\n"
     ]
    },
    {
     "name": "stderr",
     "output_type": "stream",
     "text": [
      "C:\\Users\\brice\\anaconda3\\lib\\site-packages\\sklearn\\linear_model\\_coordinate_descent.py:647: ConvergenceWarning: Objective did not converge. You might want to increase the number of iterations, check the scale of the features or consider increasing regularisation. Duality gap: 2.121e+08, tolerance: 1.999e+08\n",
      "  model = cd_fast.enet_coordinate_descent(\n",
      "C:\\Users\\brice\\anaconda3\\lib\\site-packages\\sklearn\\linear_model\\_coordinate_descent.py:647: ConvergenceWarning: Objective did not converge. You might want to increase the number of iterations, check the scale of the features or consider increasing regularisation. Duality gap: 2.120e+08, tolerance: 1.999e+08\n",
      "  model = cd_fast.enet_coordinate_descent(\n"
     ]
    },
    {
     "name": "stdout",
     "output_type": "stream",
     "text": [
      "Fitting 5 folds for each of 14 candidates, totalling 70 fits\n"
     ]
    },
    {
     "name": "stderr",
     "output_type": "stream",
     "text": [
      "C:\\Users\\brice\\anaconda3\\lib\\site-packages\\sklearn\\linear_model\\_coordinate_descent.py:647: ConvergenceWarning: Objective did not converge. You might want to increase the number of iterations, check the scale of the features or consider increasing regularisation. Duality gap: 5.236e+08, tolerance: 1.512e+08\n",
      "  model = cd_fast.enet_coordinate_descent(\n"
     ]
    },
    {
     "name": "stdout",
     "output_type": "stream",
     "text": [
      "Fitting 5 folds for each of 14 candidates, totalling 70 fits\n",
      "Fitting 5 folds for each of 14 candidates, totalling 70 fits\n",
      "Fitting 5 folds for each of 14 candidates, totalling 70 fits\n"
     ]
    },
    {
     "name": "stderr",
     "output_type": "stream",
     "text": [
      "C:\\Users\\brice\\anaconda3\\lib\\site-packages\\sklearn\\linear_model\\_coordinate_descent.py:647: ConvergenceWarning: Objective did not converge. You might want to increase the number of iterations, check the scale of the features or consider increasing regularisation. Duality gap: 9.717e+08, tolerance: 1.593e+08\n",
      "  model = cd_fast.enet_coordinate_descent(\n"
     ]
    },
    {
     "data": {
      "text/plain": [
       "array([0.79527616, 0.87197991, 0.88071044, 0.89286595, 0.90037814])"
      ]
     },
     "execution_count": 31,
     "metadata": {},
     "output_type": "execute_result"
    }
   ],
   "source": [
    "cross_val_score(grid_search, X_test, y_test)"
   ]
  },
  {
   "cell_type": "markdown",
   "id": "b8cc7420-570e-4af3-a586-e2e1ecfe70f3",
   "metadata": {},
   "source": [
    "### Ridge"
   ]
  },
  {
   "cell_type": "code",
   "execution_count": 32,
   "id": "3d5ab808-43ca-4e39-99bb-b5a1918d2db2",
   "metadata": {},
   "outputs": [],
   "source": [
    "ridge_parameter = {'ridge__alpha': [50, 52, 53, 54, 55, 57], 'ridge__max_iter': [10_000, 20_000]}"
   ]
  },
  {
   "cell_type": "code",
   "execution_count": 33,
   "id": "23bde225-3f52-4a6b-a1fe-dc1ed1c50a3c",
   "metadata": {},
   "outputs": [
    {
     "data": {
      "text/plain": [
       "{'memory': None,\n",
       " 'steps': [('ss', StandardScaler()), ('ridge', Ridge())],\n",
       " 'verbose': False,\n",
       " 'ss': StandardScaler(),\n",
       " 'ridge': Ridge(),\n",
       " 'ss__copy': True,\n",
       " 'ss__with_mean': True,\n",
       " 'ss__with_std': True,\n",
       " 'ridge__alpha': 1.0,\n",
       " 'ridge__copy_X': True,\n",
       " 'ridge__fit_intercept': True,\n",
       " 'ridge__max_iter': None,\n",
       " 'ridge__normalize': 'deprecated',\n",
       " 'ridge__positive': False,\n",
       " 'ridge__random_state': None,\n",
       " 'ridge__solver': 'auto',\n",
       " 'ridge__tol': 0.001}"
      ]
     },
     "execution_count": 33,
     "metadata": {},
     "output_type": "execute_result"
    }
   ],
   "source": [
    "ss_ridge_pipe.get_params()"
   ]
  },
  {
   "cell_type": "code",
   "execution_count": 34,
   "id": "7752718f-7845-49cb-b6ec-40e214581f5c",
   "metadata": {},
   "outputs": [
    {
     "name": "stdout",
     "output_type": "stream",
     "text": [
      "Fitting 5 folds for each of 12 candidates, totalling 60 fits\n"
     ]
    },
    {
     "data": {
      "text/plain": [
       "GridSearchCV(cv=5,\n",
       "             estimator=Pipeline(steps=[('ss', StandardScaler()),\n",
       "                                       ('ridge', Ridge())]),\n",
       "             param_grid={'ridge__alpha': [50, 52, 53, 54, 55, 57],\n",
       "                         'ridge__max_iter': [10000, 20000]},\n",
       "             verbose=1)"
      ]
     },
     "execution_count": 34,
     "metadata": {},
     "output_type": "execute_result"
    }
   ],
   "source": [
    "ss_ridge_pipe = Pipeline([\n",
    "    ('ss', StandardScaler()),\n",
    "    ('ridge', Ridge())\n",
    "])\n",
    "\n",
    "grid_search = GridSearchCV(ss_ridge_pipe, param_grid=ridge_parameter, cv=5, verbose=1)\n",
    "\n",
    "grid_search.fit(X_train, y_train)"
   ]
  },
  {
   "cell_type": "code",
   "execution_count": 35,
   "id": "aaeed9c1-cc8d-4c59-9832-e38b0ca5fe2e",
   "metadata": {},
   "outputs": [
    {
     "name": "stdout",
     "output_type": "stream",
     "text": [
      "Train set R-squared value:  0.8750195861407428\n",
      "Test set R-squared value:  0.8841796238558857 \n",
      "\n",
      "Best Score:  0.8652731122188693\n",
      "Best Parameters:  {'ridge__alpha': 54, 'ridge__max_iter': 10000} \n",
      "\n",
      "Best Score on test data:  0.8841796238558857\n"
     ]
    }
   ],
   "source": [
    "print('Train set R-squared value: ', grid_search.score(X_train, y_train))\n",
    "print('Test set R-squared value: ', grid_search.score(X_test, y_test), '\\n')\n",
    "print('Best Score: ', grid_search.best_score_)\n",
    "print('Best Parameters: ', grid_search.best_params_, '\\n')\n",
    "print('Best Score on test data: ', grid_search.score(X_test, y_test))"
   ]
  },
  {
   "cell_type": "code",
   "execution_count": 36,
   "id": "e130827a-00fc-4b17-bded-3d69b4e32b13",
   "metadata": {},
   "outputs": [
    {
     "name": "stdout",
     "output_type": "stream",
     "text": [
      "Fitting 5 folds for each of 12 candidates, totalling 60 fits\n",
      "Fitting 5 folds for each of 12 candidates, totalling 60 fits\n",
      "Fitting 5 folds for each of 12 candidates, totalling 60 fits\n",
      "Fitting 5 folds for each of 12 candidates, totalling 60 fits\n",
      "Fitting 5 folds for each of 12 candidates, totalling 60 fits\n"
     ]
    },
    {
     "data": {
      "text/plain": [
       "array([0.84955179, 0.87734147, 0.87115734, 0.87454732, 0.85379675])"
      ]
     },
     "execution_count": 36,
     "metadata": {},
     "output_type": "execute_result"
    }
   ],
   "source": [
    "cross_val_score(grid_search, X_train, y_train)"
   ]
  },
  {
   "cell_type": "code",
   "execution_count": 37,
   "id": "c4e0b350-c30c-455f-84f7-d6eb77b428c2",
   "metadata": {},
   "outputs": [
    {
     "name": "stdout",
     "output_type": "stream",
     "text": [
      "Fitting 5 folds for each of 12 candidates, totalling 60 fits\n",
      "Fitting 5 folds for each of 12 candidates, totalling 60 fits\n",
      "Fitting 5 folds for each of 12 candidates, totalling 60 fits\n",
      "Fitting 5 folds for each of 12 candidates, totalling 60 fits\n",
      "Fitting 5 folds for each of 12 candidates, totalling 60 fits\n"
     ]
    },
    {
     "data": {
      "text/plain": [
       "array([0.81695299, 0.86222715, 0.8879101 , 0.88914464, 0.90178235])"
      ]
     },
     "execution_count": 37,
     "metadata": {},
     "output_type": "execute_result"
    }
   ],
   "source": [
    "cross_val_score(grid_search, X_test, y_test)"
   ]
  },
  {
   "cell_type": "code",
   "execution_count": null,
   "id": "f69bd58c-7b23-420c-a5e5-ae821a8db04b",
   "metadata": {},
   "outputs": [],
   "source": []
  }
 ],
 "metadata": {
  "kernelspec": {
   "display_name": "Python 3 (ipykernel)",
   "language": "python",
   "name": "python3"
  },
  "language_info": {
   "codemirror_mode": {
    "name": "ipython",
    "version": 3
   },
   "file_extension": ".py",
   "mimetype": "text/x-python",
   "name": "python",
   "nbconvert_exporter": "python",
   "pygments_lexer": "ipython3",
   "version": "3.9.12"
  }
 },
 "nbformat": 4,
 "nbformat_minor": 5
}
