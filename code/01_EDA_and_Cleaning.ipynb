{
 "cells": [
  {
   "cell_type": "markdown",
   "id": "09e5ba9f-963a-4472-9bad-380671251cd4",
   "metadata": {},
   "source": [
    "# EDA and Cleaning"
   ]
  },
  {
   "cell_type": "code",
   "execution_count": 58,
   "id": "45ca3763-c862-4f7d-a625-4e02fd140038",
   "metadata": {},
   "outputs": [],
   "source": [
    "import pandas as pd\n",
    "import numpy as np\n",
    "import matplotlib.pyplot as plt\n",
    "import seaborn as sns\n",
    "\n",
    "from sklearn.linear_model import LinearRegression\n",
    "\n",
    "from sklearn.model_selection import train_test_split, cross_val_score\n"
   ]
  },
  {
   "cell_type": "code",
   "execution_count": 2,
   "id": "57fb9bf2-be8f-44e5-a774-8f1cd701d74d",
   "metadata": {},
   "outputs": [],
   "source": [
    "train = pd.read_csv('../datasets/train.csv', \n",
    "                    keep_default_na=False,\n",
    "                    na_values=[''])\n",
    "test = pd.read_csv('../datasets/test.csv',\n",
    "                  keep_default_na=False,\n",
    "                  na_values=[''])"
   ]
  },
  {
   "cell_type": "code",
   "execution_count": 3,
   "id": "fe8c1263-93ce-44ae-87a2-cde73a5d956d",
   "metadata": {},
   "outputs": [
    {
     "data": {
      "text/html": [
       "<div>\n",
       "<style scoped>\n",
       "    .dataframe tbody tr th:only-of-type {\n",
       "        vertical-align: middle;\n",
       "    }\n",
       "\n",
       "    .dataframe tbody tr th {\n",
       "        vertical-align: top;\n",
       "    }\n",
       "\n",
       "    .dataframe thead th {\n",
       "        text-align: right;\n",
       "    }\n",
       "</style>\n",
       "<table border=\"1\" class=\"dataframe\">\n",
       "  <thead>\n",
       "    <tr style=\"text-align: right;\">\n",
       "      <th></th>\n",
       "      <th>Id</th>\n",
       "      <th>PID</th>\n",
       "      <th>MS SubClass</th>\n",
       "      <th>MS Zoning</th>\n",
       "      <th>Lot Frontage</th>\n",
       "      <th>Lot Area</th>\n",
       "      <th>Street</th>\n",
       "      <th>Alley</th>\n",
       "      <th>Lot Shape</th>\n",
       "      <th>Land Contour</th>\n",
       "      <th>...</th>\n",
       "      <th>Screen Porch</th>\n",
       "      <th>Pool Area</th>\n",
       "      <th>Pool QC</th>\n",
       "      <th>Fence</th>\n",
       "      <th>Misc Feature</th>\n",
       "      <th>Misc Val</th>\n",
       "      <th>Mo Sold</th>\n",
       "      <th>Yr Sold</th>\n",
       "      <th>Sale Type</th>\n",
       "      <th>SalePrice</th>\n",
       "    </tr>\n",
       "  </thead>\n",
       "  <tbody>\n",
       "    <tr>\n",
       "      <th>0</th>\n",
       "      <td>109</td>\n",
       "      <td>533352170</td>\n",
       "      <td>60</td>\n",
       "      <td>RL</td>\n",
       "      <td>NaN</td>\n",
       "      <td>13517</td>\n",
       "      <td>Pave</td>\n",
       "      <td>NA</td>\n",
       "      <td>IR1</td>\n",
       "      <td>Lvl</td>\n",
       "      <td>...</td>\n",
       "      <td>0</td>\n",
       "      <td>0</td>\n",
       "      <td>NA</td>\n",
       "      <td>NA</td>\n",
       "      <td>NA</td>\n",
       "      <td>0</td>\n",
       "      <td>3</td>\n",
       "      <td>2010</td>\n",
       "      <td>WD</td>\n",
       "      <td>130500</td>\n",
       "    </tr>\n",
       "    <tr>\n",
       "      <th>1</th>\n",
       "      <td>544</td>\n",
       "      <td>531379050</td>\n",
       "      <td>60</td>\n",
       "      <td>RL</td>\n",
       "      <td>43.0</td>\n",
       "      <td>11492</td>\n",
       "      <td>Pave</td>\n",
       "      <td>NA</td>\n",
       "      <td>IR1</td>\n",
       "      <td>Lvl</td>\n",
       "      <td>...</td>\n",
       "      <td>0</td>\n",
       "      <td>0</td>\n",
       "      <td>NA</td>\n",
       "      <td>NA</td>\n",
       "      <td>NA</td>\n",
       "      <td>0</td>\n",
       "      <td>4</td>\n",
       "      <td>2009</td>\n",
       "      <td>WD</td>\n",
       "      <td>220000</td>\n",
       "    </tr>\n",
       "    <tr>\n",
       "      <th>2</th>\n",
       "      <td>153</td>\n",
       "      <td>535304180</td>\n",
       "      <td>20</td>\n",
       "      <td>RL</td>\n",
       "      <td>68.0</td>\n",
       "      <td>7922</td>\n",
       "      <td>Pave</td>\n",
       "      <td>NA</td>\n",
       "      <td>Reg</td>\n",
       "      <td>Lvl</td>\n",
       "      <td>...</td>\n",
       "      <td>0</td>\n",
       "      <td>0</td>\n",
       "      <td>NA</td>\n",
       "      <td>NA</td>\n",
       "      <td>NA</td>\n",
       "      <td>0</td>\n",
       "      <td>1</td>\n",
       "      <td>2010</td>\n",
       "      <td>WD</td>\n",
       "      <td>109000</td>\n",
       "    </tr>\n",
       "    <tr>\n",
       "      <th>3</th>\n",
       "      <td>318</td>\n",
       "      <td>916386060</td>\n",
       "      <td>60</td>\n",
       "      <td>RL</td>\n",
       "      <td>73.0</td>\n",
       "      <td>9802</td>\n",
       "      <td>Pave</td>\n",
       "      <td>NA</td>\n",
       "      <td>Reg</td>\n",
       "      <td>Lvl</td>\n",
       "      <td>...</td>\n",
       "      <td>0</td>\n",
       "      <td>0</td>\n",
       "      <td>NA</td>\n",
       "      <td>NA</td>\n",
       "      <td>NA</td>\n",
       "      <td>0</td>\n",
       "      <td>4</td>\n",
       "      <td>2010</td>\n",
       "      <td>WD</td>\n",
       "      <td>174000</td>\n",
       "    </tr>\n",
       "    <tr>\n",
       "      <th>4</th>\n",
       "      <td>255</td>\n",
       "      <td>906425045</td>\n",
       "      <td>50</td>\n",
       "      <td>RL</td>\n",
       "      <td>82.0</td>\n",
       "      <td>14235</td>\n",
       "      <td>Pave</td>\n",
       "      <td>NA</td>\n",
       "      <td>IR1</td>\n",
       "      <td>Lvl</td>\n",
       "      <td>...</td>\n",
       "      <td>0</td>\n",
       "      <td>0</td>\n",
       "      <td>NA</td>\n",
       "      <td>NA</td>\n",
       "      <td>NA</td>\n",
       "      <td>0</td>\n",
       "      <td>3</td>\n",
       "      <td>2010</td>\n",
       "      <td>WD</td>\n",
       "      <td>138500</td>\n",
       "    </tr>\n",
       "  </tbody>\n",
       "</table>\n",
       "<p>5 rows × 81 columns</p>\n",
       "</div>"
      ],
      "text/plain": [
       "    Id        PID  MS SubClass MS Zoning  Lot Frontage  Lot Area Street Alley  \\\n",
       "0  109  533352170           60        RL           NaN     13517   Pave    NA   \n",
       "1  544  531379050           60        RL          43.0     11492   Pave    NA   \n",
       "2  153  535304180           20        RL          68.0      7922   Pave    NA   \n",
       "3  318  916386060           60        RL          73.0      9802   Pave    NA   \n",
       "4  255  906425045           50        RL          82.0     14235   Pave    NA   \n",
       "\n",
       "  Lot Shape Land Contour  ... Screen Porch Pool Area Pool QC Fence  \\\n",
       "0       IR1          Lvl  ...            0         0      NA    NA   \n",
       "1       IR1          Lvl  ...            0         0      NA    NA   \n",
       "2       Reg          Lvl  ...            0         0      NA    NA   \n",
       "3       Reg          Lvl  ...            0         0      NA    NA   \n",
       "4       IR1          Lvl  ...            0         0      NA    NA   \n",
       "\n",
       "  Misc Feature Misc Val Mo Sold Yr Sold  Sale Type  SalePrice  \n",
       "0           NA        0       3    2010        WD      130500  \n",
       "1           NA        0       4    2009        WD      220000  \n",
       "2           NA        0       1    2010        WD      109000  \n",
       "3           NA        0       4    2010        WD      174000  \n",
       "4           NA        0       3    2010        WD      138500  \n",
       "\n",
       "[5 rows x 81 columns]"
      ]
     },
     "execution_count": 3,
     "metadata": {},
     "output_type": "execute_result"
    }
   ],
   "source": [
    "train.head()"
   ]
  },
  {
   "cell_type": "code",
   "execution_count": 4,
   "id": "ebb8d774-c0e5-4305-95d1-fb1475ec1da9",
   "metadata": {},
   "outputs": [],
   "source": [
    "train.columns = [col.lower().replace(' ', '_').replace('/', '_') for col in train.columns]\n",
    "test.columns = [col.lower().replace(' ', '_').replace('/', '_') for col in test.columns]"
   ]
  },
  {
   "cell_type": "code",
   "execution_count": 5,
   "id": "0b51bd4b-7ec1-4ef9-9baf-3a89b70a0e8e",
   "metadata": {},
   "outputs": [
    {
     "data": {
      "text/html": [
       "<div>\n",
       "<style scoped>\n",
       "    .dataframe tbody tr th:only-of-type {\n",
       "        vertical-align: middle;\n",
       "    }\n",
       "\n",
       "    .dataframe tbody tr th {\n",
       "        vertical-align: top;\n",
       "    }\n",
       "\n",
       "    .dataframe thead th {\n",
       "        text-align: right;\n",
       "    }\n",
       "</style>\n",
       "<table border=\"1\" class=\"dataframe\">\n",
       "  <thead>\n",
       "    <tr style=\"text-align: right;\">\n",
       "      <th></th>\n",
       "      <th>id</th>\n",
       "      <th>pid</th>\n",
       "      <th>ms_subclass</th>\n",
       "      <th>ms_zoning</th>\n",
       "      <th>lot_frontage</th>\n",
       "      <th>lot_area</th>\n",
       "      <th>street</th>\n",
       "      <th>alley</th>\n",
       "      <th>lot_shape</th>\n",
       "      <th>land_contour</th>\n",
       "      <th>...</th>\n",
       "      <th>screen_porch</th>\n",
       "      <th>pool_area</th>\n",
       "      <th>pool_qc</th>\n",
       "      <th>fence</th>\n",
       "      <th>misc_feature</th>\n",
       "      <th>misc_val</th>\n",
       "      <th>mo_sold</th>\n",
       "      <th>yr_sold</th>\n",
       "      <th>sale_type</th>\n",
       "      <th>saleprice</th>\n",
       "    </tr>\n",
       "  </thead>\n",
       "  <tbody>\n",
       "    <tr>\n",
       "      <th>0</th>\n",
       "      <td>109</td>\n",
       "      <td>533352170</td>\n",
       "      <td>60</td>\n",
       "      <td>RL</td>\n",
       "      <td>NaN</td>\n",
       "      <td>13517</td>\n",
       "      <td>Pave</td>\n",
       "      <td>NA</td>\n",
       "      <td>IR1</td>\n",
       "      <td>Lvl</td>\n",
       "      <td>...</td>\n",
       "      <td>0</td>\n",
       "      <td>0</td>\n",
       "      <td>NA</td>\n",
       "      <td>NA</td>\n",
       "      <td>NA</td>\n",
       "      <td>0</td>\n",
       "      <td>3</td>\n",
       "      <td>2010</td>\n",
       "      <td>WD</td>\n",
       "      <td>130500</td>\n",
       "    </tr>\n",
       "  </tbody>\n",
       "</table>\n",
       "<p>1 rows × 81 columns</p>\n",
       "</div>"
      ],
      "text/plain": [
       "    id        pid  ms_subclass ms_zoning  lot_frontage  lot_area street alley  \\\n",
       "0  109  533352170           60        RL           NaN     13517   Pave    NA   \n",
       "\n",
       "  lot_shape land_contour  ... screen_porch pool_area pool_qc fence  \\\n",
       "0       IR1          Lvl  ...            0         0      NA    NA   \n",
       "\n",
       "  misc_feature misc_val mo_sold yr_sold  sale_type  saleprice  \n",
       "0           NA        0       3    2010        WD      130500  \n",
       "\n",
       "[1 rows x 81 columns]"
      ]
     },
     "execution_count": 5,
     "metadata": {},
     "output_type": "execute_result"
    }
   ],
   "source": [
    "train[:1]"
   ]
  },
  {
   "cell_type": "code",
   "execution_count": 6,
   "id": "90032b50-69f8-452c-a560-ba728f112c09",
   "metadata": {},
   "outputs": [
    {
     "data": {
      "text/plain": [
       "(2051, 81)"
      ]
     },
     "execution_count": 6,
     "metadata": {},
     "output_type": "execute_result"
    }
   ],
   "source": [
    "train.shape"
   ]
  },
  {
   "cell_type": "markdown",
   "id": "a078508b-ee39-4aaf-92e0-129e2cb8eed9",
   "metadata": {},
   "source": [
    "SPECIAL NOTES:\n",
    "There are 5 observations that an instructor may wish to remove from the data set before giving it to students (a plot of SALE PRICE versus GR LIV AREA will indicate them quickly). Three of them are true outliers (Partial Sales that likely don’t represent actual market values) and two of them are simply unusual sales (very large houses priced relatively appropriately). I would recommend removing any houses with more than 4000 square feet from the data set (which eliminates these 5 unusual observations) before assigning it to students.\n"
   ]
  },
  {
   "cell_type": "code",
   "execution_count": 7,
   "id": "1e612780-cb4b-42f8-994e-448a623069af",
   "metadata": {},
   "outputs": [
    {
     "data": {
      "text/plain": [
       "<matplotlib.collections.PathCollection at 0x27abf89e850>"
      ]
     },
     "execution_count": 7,
     "metadata": {},
     "output_type": "execute_result"
    },
    {
     "data": {
      "image/png": "[encoded data removed]",
      "text/plain": [
       "<Figure size 432x288 with 1 Axes>"
      ]
     },
     "metadata": {
      "needs_background": "light"
     },
     "output_type": "display_data"
    }
   ],
   "source": [
    "fig, ax = plt.subplots()\n",
    "ax.scatter(train['saleprice'], train['gr_liv_area'])"
   ]
  },
  {
   "cell_type": "markdown",
   "id": "bff7aabe-a6ee-4ce3-be35-3e5eef82d8a5",
   "metadata": {},
   "source": [
    "##### Remove instances with \"Gr Liv Area\" greater than 4,000 sq. ft."
   ]
  },
  {
   "cell_type": "code",
   "execution_count": 8,
   "id": "464f195a-5c5b-4581-b053-2a92f9749b75",
   "metadata": {},
   "outputs": [],
   "source": [
    "train = train[train['gr_liv_area'] < 4000 ]"
   ]
  },
  {
   "cell_type": "markdown",
   "id": "050a6ede-7996-4b5e-b3ea-b4cd1e397c62",
   "metadata": {},
   "source": [
    "##### - removed two rows"
   ]
  },
  {
   "cell_type": "code",
   "execution_count": 9,
   "id": "f37e62d4-89e6-420f-9900-3df88703ab66",
   "metadata": {},
   "outputs": [
    {
     "data": {
      "text/plain": [
       "(2049, 81)"
      ]
     },
     "execution_count": 9,
     "metadata": {},
     "output_type": "execute_result"
    }
   ],
   "source": [
    "train.shape"
   ]
  },
  {
   "cell_type": "code",
   "execution_count": 57,
   "id": "8ace901a-c36c-434f-a1b7-4b8b23440283",
   "metadata": {},
   "outputs": [
    {
     "data": {
      "image/png": "[encoded data removed]",
      "text/plain": [
       "<Figure size 576x576 with 1 Axes>"
      ]
     },
     "metadata": {
      "needs_background": "light"
     },
     "output_type": "display_data"
    }
   ],
   "source": [
    "fig, ax = plt.subplots(figsize = (8,8))\n",
    "ax.scatter(train['saleprice'], train['gr_liv_area'])\n",
    "plt.title('Sale Price by Above Ground Living Square Footage')\n",
    "plt.xlabel('Sale Price USD')\n",
    "plt.ylabel('Living Area Sq. Ft.')\n",
    "plt.savefig('../images/sq_ft');"
   ]
  },
  {
   "cell_type": "markdown",
   "id": "a557fb20-3c2d-44ce-9366-ede3f5061005",
   "metadata": {},
   "source": [
    "## Find Highest Correlations"
   ]
  },
  {
   "cell_type": "code",
   "execution_count": 11,
   "id": "36a24cf8-fac6-4734-9337-c593c8ad353e",
   "metadata": {},
   "outputs": [
    {
     "data": {
      "text/plain": [
       "saleprice         1.000000\n",
       "overall_qual      0.803462\n",
       "gr_liv_area       0.719463\n",
       "total_bsmt_sf     0.664819\n",
       "garage_area       0.655483\n",
       "garage_cars       0.648667\n",
       "1st_flr_sf        0.648252\n",
       "year_built        0.572405\n",
       "year_remod_add    0.550872\n",
       "full_bath         0.538225\n",
       "garage_yr_blt     0.534514\n",
       "mas_vnr_area      0.520023\n",
       "totrms_abvgrd     0.509775\n",
       "fireplaces        0.473783\n",
       "bsmtfin_sf_1      0.445764\n",
       "lot_frontage      0.355530\n",
       "open_porch_sf     0.338545\n",
       "wood_deck_sf      0.327629\n",
       "lot_area          0.303744\n",
       "bsmt_full_bath    0.284763\n",
       "Name: saleprice, dtype: float64"
      ]
     },
     "execution_count": 11,
     "metadata": {},
     "output_type": "execute_result"
    }
   ],
   "source": [
    "train.corr()['saleprice'].sort_values(ascending=False).head(20)"
   ]
  },
  {
   "cell_type": "code",
   "execution_count": 66,
   "id": "b4fa2b5e-f4d0-441d-b835-65d0fce36684",
   "metadata": {},
   "outputs": [
    {
     "data": {
      "image/png": "[encoded data removed]",
      "text/plain": [
       "<Figure size 576x288 with 2 Axes>"
      ]
     },
     "metadata": {
      "needs_background": "light"
     },
     "output_type": "display_data"
    }
   ],
   "source": [
    "correl = pd.DataFrame(train[['saleprice', 'gr_liv_area', 'overall_qual', 'garage_area',\n",
    "                            'total_bsmt_sf', 'year_built', 'year_remod_add', 'mas_vnr_area',\n",
    "                            'fireplaces',  'bsmtfin_sf_1', 'central_air']])\n",
    "plt.figure(figsize=(8,4))\n",
    "ax = sns.heatmap(correl.corr(), annot = True)\n",
    "ax.set_title('Correlation Between Interested Features')\n",
    "plt.savefig('../images/heatmap');"
   ]
  },
  {
   "cell_type": "markdown",
   "id": "9331538b-f5dd-4d1f-9891-b403825135ca",
   "metadata": {},
   "source": [
    "## Null Values"
   ]
  },
  {
   "cell_type": "code",
   "execution_count": 12,
   "id": "c67a85df-b67c-4d0e-8e89-064a353f6c12",
   "metadata": {},
   "outputs": [
    {
     "data": {
      "text/plain": [
       "lot_frontage      330\n",
       "garage_yr_blt     114\n",
       "mas_vnr_type       22\n",
       "mas_vnr_area       22\n",
       "bsmt_exposure       4\n",
       "bsmtfin_type_2      2\n",
       "bsmt_full_bath      2\n",
       "bsmt_half_bath      2\n",
       "garage_cond         1\n",
       "bsmt_qual           1\n",
       "garage_finish       1\n",
       "garage_cars         1\n",
       "garage_area         1\n",
       "garage_qual         1\n",
       "total_bsmt_sf       1\n",
       "bsmtfin_type_1      1\n",
       "bsmt_cond           1\n",
       "bsmtfin_sf_1        1\n",
       "bsmtfin_sf_2        1\n",
       "bsmt_unf_sf         1\n",
       "dtype: int64"
      ]
     },
     "execution_count": 12,
     "metadata": {},
     "output_type": "execute_result"
    }
   ],
   "source": [
    "train.isnull().sum().sort_values(ascending=False).head(20)"
   ]
  },
  {
   "cell_type": "markdown",
   "id": "780c747d-458b-428b-a64e-09d4ff71cc02",
   "metadata": {},
   "source": [
    "#### Lot Frontage: will cleaning the data increase the correlation?\n"
   ]
  },
  {
   "cell_type": "code",
   "execution_count": 13,
   "id": "389a6bcb-c03d-453f-9f39-15abb9726b09",
   "metadata": {},
   "outputs": [
    {
     "data": {
      "text/plain": [
       "dtype('float64')"
      ]
     },
     "execution_count": 13,
     "metadata": {},
     "output_type": "execute_result"
    }
   ],
   "source": [
    "train['lot_frontage'].dtypes"
   ]
  },
  {
   "cell_type": "code",
   "execution_count": 14,
   "id": "dbbde1dc-66b7-4c46-bb79-4a9d5a5f434f",
   "metadata": {},
   "outputs": [
    {
     "data": {
      "text/plain": [
       "count    1719.000000\n",
       "mean       68.878999\n",
       "std        22.472112\n",
       "min        21.000000\n",
       "25%        58.000000\n",
       "50%        68.000000\n",
       "75%        80.000000\n",
       "max       313.000000\n",
       "Name: lot_frontage, dtype: float64"
      ]
     },
     "execution_count": 14,
     "metadata": {},
     "output_type": "execute_result"
    }
   ],
   "source": [
    "train['lot_frontage'].describe()"
   ]
  },
  {
   "cell_type": "code",
   "execution_count": 15,
   "id": "1a6e5802-1d08-4ef8-baa5-76c537a49a33",
   "metadata": {},
   "outputs": [
    {
     "data": {
      "text/plain": [
       "<AxesSubplot:xlabel='saleprice', ylabel='lot_frontage'>"
      ]
     },
     "execution_count": 15,
     "metadata": {},
     "output_type": "execute_result"
    },
    {
     "data": {
      "image/png": "[encoded data removed]",
      "text/plain": [
       "<Figure size 432x288 with 1 Axes>"
      ]
     },
     "metadata": {
      "needs_background": "light"
     },
     "output_type": "display_data"
    }
   ],
   "source": [
    "train.plot.scatter('saleprice', 'lot_frontage')"
   ]
  },
  {
   "cell_type": "markdown",
   "id": "dcceac9f-6fdd-4023-81b7-a968f3cf8a92",
   "metadata": {},
   "source": [
    "##### Convert Nulls to median"
   ]
  },
  {
   "cell_type": "code",
   "execution_count": 16,
   "id": "73a7abdb-1efc-4931-a64c-7399a91623cc",
   "metadata": {},
   "outputs": [],
   "source": [
    "train['lot_frontage'].fillna(value = train['lot_frontage'].median(), inplace = True)\n",
    "test['lot_frontage'].fillna(value = train['lot_frontage'].median(), inplace = True)"
   ]
  },
  {
   "cell_type": "code",
   "execution_count": 17,
   "id": "fa38c9f6-ed66-4ad4-9d90-ca0f97ea1355",
   "metadata": {},
   "outputs": [
    {
     "data": {
      "text/plain": [
       "count    2049.000000\n",
       "mean       68.737433\n",
       "std        20.584676\n",
       "min        21.000000\n",
       "25%        60.000000\n",
       "50%        68.000000\n",
       "75%        78.000000\n",
       "max       313.000000\n",
       "Name: lot_frontage, dtype: float64"
      ]
     },
     "execution_count": 17,
     "metadata": {},
     "output_type": "execute_result"
    }
   ],
   "source": [
    "train['lot_frontage'].describe()"
   ]
  },
  {
   "cell_type": "markdown",
   "id": "6bbaabb4-1fee-4d36-8aa0-c0a887cd62b6",
   "metadata": {},
   "source": [
    "##### Remove outlier with lot frontage over 250"
   ]
  },
  {
   "cell_type": "code",
   "execution_count": 18,
   "id": "5ea442a4-7aea-4ed2-9e62-d895c999f033",
   "metadata": {},
   "outputs": [
    {
     "data": {
      "text/plain": [
       "(2049, 81)"
      ]
     },
     "execution_count": 18,
     "metadata": {},
     "output_type": "execute_result"
    }
   ],
   "source": [
    "train.shape"
   ]
  },
  {
   "cell_type": "code",
   "execution_count": 19,
   "id": "5af77a62-c17d-4834-9352-14a9809bc761",
   "metadata": {},
   "outputs": [
    {
     "data": {
      "text/plain": [
       "(2048, 81)"
      ]
     },
     "execution_count": 19,
     "metadata": {},
     "output_type": "execute_result"
    }
   ],
   "source": [
    "train = train[train['lot_frontage'] < 250]\n",
    "train.shape"
   ]
  },
  {
   "cell_type": "code",
   "execution_count": 20,
   "id": "b4834301-e764-4050-8762-8b3d61baef12",
   "metadata": {},
   "outputs": [
    {
     "data": {
      "text/plain": [
       "saleprice         1.000000\n",
       "overall_qual      0.803420\n",
       "gr_liv_area       0.719370\n",
       "total_bsmt_sf     0.665519\n",
       "garage_area       0.655524\n",
       "garage_cars       0.648663\n",
       "1st_flr_sf        0.648360\n",
       "year_built        0.572652\n",
       "year_remod_add    0.550704\n",
       "full_bath         0.538092\n",
       "garage_yr_blt     0.534928\n",
       "mas_vnr_area      0.520360\n",
       "totrms_abvgrd     0.509572\n",
       "fireplaces        0.473658\n",
       "bsmtfin_sf_1      0.445839\n",
       "lot_frontage      0.346016\n",
       "open_porch_sf     0.338903\n",
       "wood_deck_sf      0.327990\n",
       "lot_area          0.303320\n",
       "bsmt_full_bath    0.284477\n",
       "Name: saleprice, dtype: float64"
      ]
     },
     "execution_count": 20,
     "metadata": {},
     "output_type": "execute_result"
    }
   ],
   "source": [
    "train.corr()['saleprice'].sort_values(ascending=False).head(20)"
   ]
  },
  {
   "cell_type": "markdown",
   "id": "5e1156b7-0087-4141-9708-f9d100a3eb09",
   "metadata": {},
   "source": [
    "- Checking to see if lot frontage correlation would improve after converting null values but it did not."
   ]
  },
  {
   "cell_type": "markdown",
   "id": "bf7842a3-c2ae-4b72-9a50-69dc1687380a",
   "metadata": {
    "tags": []
   },
   "source": [
    "#### Create a function to input a list of attributes to return the number of null values and data types"
   ]
  },
  {
   "cell_type": "code",
   "execution_count": 21,
   "id": "5977af63-a9ad-47d8-95bc-78e8c1b21fac",
   "metadata": {},
   "outputs": [],
   "source": [
    "def null_type(lis):\n",
    "    return train.isnull().sum()[lis], train.dtypes[lis]"
   ]
  },
  {
   "cell_type": "code",
   "execution_count": 22,
   "id": "f02b71a7-6fbc-4cff-a199-53c5e29f0015",
   "metadata": {},
   "outputs": [],
   "source": [
    "def null_type_test(lis):\n",
    "    return test.isnull().sum()[lis], test.dtypes[lis]"
   ]
  },
  {
   "cell_type": "markdown",
   "id": "2bd8f0d4-f3a1-4a3a-80f0-eea94ebf7c22",
   "metadata": {},
   "source": [
    "#### Clean the top correlated numeric attributes, intentionally left out similar features to prevent multicolinearity."
   ]
  },
  {
   "cell_type": "code",
   "execution_count": 23,
   "id": "9e4ba51f-501d-465a-a228-07557e3797a3",
   "metadata": {},
   "outputs": [
    {
     "data": {
      "text/plain": [
       "(saleprice          0\n",
       " gr_liv_area        0\n",
       " overall_qual       0\n",
       " garage_area        1\n",
       " total_bsmt_sf      1\n",
       " year_built         0\n",
       " year_remod_add     0\n",
       " mas_vnr_area      22\n",
       " fireplaces         0\n",
       " bsmtfin_sf_1       1\n",
       " central_air        0\n",
       " dtype: int64,\n",
       " saleprice           int64\n",
       " gr_liv_area         int64\n",
       " overall_qual        int64\n",
       " garage_area       float64\n",
       " total_bsmt_sf     float64\n",
       " year_built          int64\n",
       " year_remod_add      int64\n",
       " mas_vnr_area      float64\n",
       " fireplaces          int64\n",
       " bsmtfin_sf_1      float64\n",
       " central_air        object\n",
       " dtype: object)"
      ]
     },
     "execution_count": 23,
     "metadata": {},
     "output_type": "execute_result"
    }
   ],
   "source": [
    "explore = ['saleprice', 'gr_liv_area', 'overall_qual', 'garage_area', 'total_bsmt_sf', 'year_built', 'year_remod_add', 'mas_vnr_area', 'fireplaces',  'bsmtfin_sf_1', 'central_air']\n",
    "explore_test = ['gr_liv_area', 'overall_qual', 'garage_area', 'total_bsmt_sf', 'year_built', 'year_remod_add', 'mas_vnr_area', 'fireplaces',  'bsmtfin_sf_1', 'central_air']\n",
    "null_type(explore)"
   ]
  },
  {
   "cell_type": "code",
   "execution_count": 24,
   "id": "85741b36-3360-4a58-84ee-894192512f3c",
   "metadata": {},
   "outputs": [
    {
     "data": {
      "text/plain": [
       "(gr_liv_area       0\n",
       " overall_qual      0\n",
       " garage_area       0\n",
       " total_bsmt_sf     0\n",
       " year_built        0\n",
       " year_remod_add    0\n",
       " mas_vnr_area      1\n",
       " fireplaces        0\n",
       " bsmtfin_sf_1      0\n",
       " central_air       0\n",
       " dtype: int64,\n",
       " gr_liv_area         int64\n",
       " overall_qual        int64\n",
       " garage_area         int64\n",
       " total_bsmt_sf       int64\n",
       " year_built          int64\n",
       " year_remod_add      int64\n",
       " mas_vnr_area      float64\n",
       " fireplaces          int64\n",
       " bsmtfin_sf_1        int64\n",
       " central_air        object\n",
       " dtype: object)"
      ]
     },
     "execution_count": 24,
     "metadata": {},
     "output_type": "execute_result"
    }
   ],
   "source": [
    "null_type_test(explore_test)"
   ]
  },
  {
   "cell_type": "markdown",
   "id": "6e3871a0-b2ca-4e9a-9708-5581560684eb",
   "metadata": {},
   "source": [
    "##### Conver null Garage Area square foot to the median."
   ]
  },
  {
   "cell_type": "code",
   "execution_count": 26,
   "id": "1d8bb9e3-d1e5-4d19-ab63-7f86c901f6a0",
   "metadata": {},
   "outputs": [
    {
     "name": "stderr",
     "output_type": "stream",
     "text": [
      "C:\\Users\\brice\\AppData\\Local\\Temp\\ipykernel_21064\\1073172382.py:1: SettingWithCopyWarning: \n",
      "A value is trying to be set on a copy of a slice from a DataFrame.\n",
      "Try using .loc[row_indexer,col_indexer] = value instead\n",
      "\n",
      "See the caveats in the documentation: https://pandas.pydata.org/pandas-docs/stable/user_guide/indexing.html#returning-a-view-versus-a-copy\n",
      "  train ['garage_area'] = train['garage_area'].fillna(value = train['garage_area'].median()).copy()\n"
     ]
    }
   ],
   "source": [
    "train ['garage_area'] = train['garage_area'].fillna(value = train['garage_area'].median()).copy()\n",
    "test['garage_area'] = test['garage_area'].fillna(value = train['garage_area'].median()).copy()"
   ]
  },
  {
   "cell_type": "markdown",
   "id": "6de45797-40a2-4c71-958e-e32e91ae647e",
   "metadata": {},
   "source": [
    "##### Converting null continuous values to the meidan to account for potential outliers. "
   ]
  },
  {
   "cell_type": "code",
   "execution_count": 55,
   "id": "d98d6bdc-466a-4e75-a6f7-a7dc88400af2",
   "metadata": {},
   "outputs": [],
   "source": [
    "train['bsmtfin_sf_1'].fillna(value = train['bsmtfin_sf_1'].median(), inplace = True)\n",
    "test['bsmtfin_sf_1'].fillna(value = train['bsmtfin_sf_1'].median(), inplace = True)\n",
    "    #Innapropriate time in workflow to use imputer\n",
    "# si_median.fit(train[['bsmtfin_sf_1']])\n",
    "# train['bsmtfin_sf_1'] = si_median.transform(train[['bsmtfin_sf_1']])"
   ]
  },
  {
   "cell_type": "code",
   "execution_count": 29,
   "id": "aa11f802-871d-425d-bad9-12c044e8fbf5",
   "metadata": {},
   "outputs": [
    {
     "name": "stderr",
     "output_type": "stream",
     "text": [
      "C:\\Users\\brice\\AppData\\Local\\Temp\\ipykernel_21064\\1783989359.py:1: SettingWithCopyWarning: \n",
      "A value is trying to be set on a copy of a slice from a DataFrame\n",
      "\n",
      "See the caveats in the documentation: https://pandas.pydata.org/pandas-docs/stable/user_guide/indexing.html#returning-a-view-versus-a-copy\n",
      "  train['total_bsmt_sf'].fillna(value = train['total_bsmt_sf'].median(), inplace = True)\n"
     ]
    }
   ],
   "source": [
    "train['total_bsmt_sf'].fillna(value = train['total_bsmt_sf'].median(), inplace = True)\n",
    "test['total_bsmt_sf'].fillna(value = train['total_bsmt_sf'].median(), inplace = True)"
   ]
  },
  {
   "cell_type": "code",
   "execution_count": 30,
   "id": "2191c026-79ed-4638-97a2-dd1190274f6b",
   "metadata": {},
   "outputs": [
    {
     "name": "stderr",
     "output_type": "stream",
     "text": [
      "C:\\Users\\brice\\AppData\\Local\\Temp\\ipykernel_21064\\940837058.py:1: SettingWithCopyWarning: \n",
      "A value is trying to be set on a copy of a slice from a DataFrame\n",
      "\n",
      "See the caveats in the documentation: https://pandas.pydata.org/pandas-docs/stable/user_guide/indexing.html#returning-a-view-versus-a-copy\n",
      "  train['mas_vnr_area'].fillna(value = train['mas_vnr_area'].median(), inplace = True)\n"
     ]
    }
   ],
   "source": [
    "train['mas_vnr_area'].fillna(value = train['mas_vnr_area'].median(), inplace = True)\n",
    "test['mas_vnr_area'].fillna(value = train['mas_vnr_area'].median(), inplace = True)"
   ]
  },
  {
   "cell_type": "code",
   "execution_count": 31,
   "id": "ec1002de-797c-4492-b271-1ef9165d00ed",
   "metadata": {},
   "outputs": [
    {
     "data": {
      "text/plain": [
       "((saleprice         0\n",
       "  gr_liv_area       0\n",
       "  overall_qual      0\n",
       "  garage_area       0\n",
       "  total_bsmt_sf     0\n",
       "  year_built        0\n",
       "  year_remod_add    0\n",
       "  mas_vnr_area      0\n",
       "  fireplaces        0\n",
       "  bsmtfin_sf_1      0\n",
       "  central_air       0\n",
       "  dtype: int64,\n",
       "  saleprice           int64\n",
       "  gr_liv_area         int64\n",
       "  overall_qual        int64\n",
       "  garage_area       float64\n",
       "  total_bsmt_sf     float64\n",
       "  year_built          int64\n",
       "  year_remod_add      int64\n",
       "  mas_vnr_area      float64\n",
       "  fireplaces          int64\n",
       "  bsmtfin_sf_1      float64\n",
       "  central_air        object\n",
       "  dtype: object),\n",
       " (gr_liv_area       0\n",
       "  overall_qual      0\n",
       "  garage_area       0\n",
       "  total_bsmt_sf     0\n",
       "  year_built        0\n",
       "  year_remod_add    0\n",
       "  mas_vnr_area      0\n",
       "  fireplaces        0\n",
       "  bsmtfin_sf_1      0\n",
       "  central_air       0\n",
       "  dtype: int64,\n",
       "  gr_liv_area         int64\n",
       "  overall_qual        int64\n",
       "  garage_area         int64\n",
       "  total_bsmt_sf       int64\n",
       "  year_built          int64\n",
       "  year_remod_add      int64\n",
       "  mas_vnr_area      float64\n",
       "  fireplaces          int64\n",
       "  bsmtfin_sf_1        int64\n",
       "  central_air        object\n",
       "  dtype: object))"
      ]
     },
     "execution_count": 31,
     "metadata": {},
     "output_type": "execute_result"
    }
   ],
   "source": [
    "null_type(explore), null_type_test(explore_test)"
   ]
  },
  {
   "cell_type": "markdown",
   "id": "9571e4ca-e170-4b2e-86b6-ae461f490546",
   "metadata": {},
   "source": [
    "## Data Types\n",
    "##### Sale Price and Gr Living Are are integers but price and square feet are continuous data types. They needs to be converted to a float."
   ]
  },
  {
   "cell_type": "code",
   "execution_count": 32,
   "id": "1b1d6849-8fa8-43c1-8750-ebe3d3d85ba6",
   "metadata": {},
   "outputs": [
    {
     "name": "stderr",
     "output_type": "stream",
     "text": [
      "C:\\Users\\brice\\AppData\\Local\\Temp\\ipykernel_21064\\4084327720.py:1: SettingWithCopyWarning: \n",
      "A value is trying to be set on a copy of a slice from a DataFrame.\n",
      "Try using .loc[row_indexer,col_indexer] = value instead\n",
      "\n",
      "See the caveats in the documentation: https://pandas.pydata.org/pandas-docs/stable/user_guide/indexing.html#returning-a-view-versus-a-copy\n",
      "  train['saleprice'] = [float(p) for p in train['saleprice']]\n"
     ]
    }
   ],
   "source": [
    "train['saleprice'] = [float(p) for p in train['saleprice']]"
   ]
  },
  {
   "cell_type": "code",
   "execution_count": 33,
   "id": "1dda4a26-9171-4679-8fb9-fb8951965906",
   "metadata": {},
   "outputs": [
    {
     "name": "stderr",
     "output_type": "stream",
     "text": [
      "C:\\Users\\brice\\AppData\\Local\\Temp\\ipykernel_21064\\2002544746.py:1: SettingWithCopyWarning: \n",
      "A value is trying to be set on a copy of a slice from a DataFrame.\n",
      "Try using .loc[row_indexer,col_indexer] = value instead\n",
      "\n",
      "See the caveats in the documentation: https://pandas.pydata.org/pandas-docs/stable/user_guide/indexing.html#returning-a-view-versus-a-copy\n",
      "  train['gr_liv_area'] = [float(p) for p in train['gr_liv_area']]\n"
     ]
    }
   ],
   "source": [
    "train['gr_liv_area'] = [float(p) for p in train['gr_liv_area']]\n",
    "test['gr_liv_area'] = [float(p) for p in test['gr_liv_area']]\n",
    "test['garage_area'] = [float(p) for p in test['garage_area']]\n",
    "test['total_bsmt_sf'] = [float(p) for p in test['total_bsmt_sf']]\n",
    "test['bsmtfin_sf_1'] = [float(p) for p in test['bsmtfin_sf_1']]"
   ]
  },
  {
   "cell_type": "code",
   "execution_count": 34,
   "id": "cfe5ca51-f7e4-492c-ab49-5f9eaecf2283",
   "metadata": {},
   "outputs": [
    {
     "data": {
      "text/plain": [
       "(gr_liv_area       0\n",
       " overall_qual      0\n",
       " garage_area       0\n",
       " total_bsmt_sf     0\n",
       " year_built        0\n",
       " year_remod_add    0\n",
       " mas_vnr_area      0\n",
       " fireplaces        0\n",
       " bsmtfin_sf_1      0\n",
       " central_air       0\n",
       " dtype: int64,\n",
       " gr_liv_area       float64\n",
       " overall_qual        int64\n",
       " garage_area       float64\n",
       " total_bsmt_sf     float64\n",
       " year_built          int64\n",
       " year_remod_add      int64\n",
       " mas_vnr_area      float64\n",
       " fireplaces          int64\n",
       " bsmtfin_sf_1      float64\n",
       " central_air        object\n",
       " dtype: object)"
      ]
     },
     "execution_count": 34,
     "metadata": {},
     "output_type": "execute_result"
    }
   ],
   "source": [
    "null_type_test(explore_test)"
   ]
  },
  {
   "cell_type": "markdown",
   "id": "e0ea3f6c-28d0-4253-81d5-70bc16bca98e",
   "metadata": {},
   "source": [
    "##### \n",
    "- Overall Quality is ordinal, integer is appropriate.\n",
    "- Basement Finished Squar Feet 1 is continous, float is appropriate. "
   ]
  },
  {
   "cell_type": "code",
   "execution_count": 35,
   "id": "8e155d41-daf1-49be-a2f8-e21e70bea2c9",
   "metadata": {},
   "outputs": [
    {
     "data": {
      "text/plain": [
       "0    Y\n",
       "1    Y\n",
       "2    Y\n",
       "3    Y\n",
       "4    Y\n",
       "Name: central_air, dtype: object"
      ]
     },
     "execution_count": 35,
     "metadata": {},
     "output_type": "execute_result"
    }
   ],
   "source": [
    "train['central_air'].head()"
   ]
  },
  {
   "cell_type": "code",
   "execution_count": 36,
   "id": "4283a10e-6e67-4c44-ac56-804f6bc46684",
   "metadata": {},
   "outputs": [
    {
     "name": "stderr",
     "output_type": "stream",
     "text": [
      "C:\\Users\\brice\\AppData\\Local\\Temp\\ipykernel_21064\\2749315752.py:1: SettingWithCopyWarning: \n",
      "A value is trying to be set on a copy of a slice from a DataFrame.\n",
      "Try using .loc[row_indexer,col_indexer] = value instead\n",
      "\n",
      "See the caveats in the documentation: https://pandas.pydata.org/pandas-docs/stable/user_guide/indexing.html#returning-a-view-versus-a-copy\n",
      "  train['central_air'] = [1 if ca == 'Y' else 0 for ca in train['central_air']]\n"
     ]
    },
    {
     "data": {
      "text/plain": [
       "0    1\n",
       "1    1\n",
       "2    1\n",
       "3    1\n",
       "4    1\n",
       "Name: central_air, dtype: int64"
      ]
     },
     "execution_count": 36,
     "metadata": {},
     "output_type": "execute_result"
    }
   ],
   "source": [
    "train['central_air'] = [1 if ca == 'Y' else 0 for ca in train['central_air']]\n",
    "test['central_air'] = [1 if ca == 'Y' else 0 for ca in test['central_air']]\n",
    "train['central_air'].head()"
   ]
  },
  {
   "cell_type": "code",
   "execution_count": 37,
   "id": "0f581aaf-dc8f-42cc-8801-3dfb8ef1feb5",
   "metadata": {},
   "outputs": [
    {
     "data": {
      "text/plain": [
       "1    1907\n",
       "0     141\n",
       "Name: central_air, dtype: int64"
      ]
     },
     "execution_count": 37,
     "metadata": {},
     "output_type": "execute_result"
    }
   ],
   "source": [
    "train['central_air'].value_counts()"
   ]
  },
  {
   "cell_type": "markdown",
   "id": "b7b46a6c-5fb6-49a6-a072-7bd6dd49a2d3",
   "metadata": {},
   "source": [
    "- most homes have central air, the negative consequence of not having central air may be more significant than the positive impact of having central air."
   ]
  },
  {
   "cell_type": "code",
   "execution_count": 67,
   "id": "635080ab-c738-49d4-96ee-6e365fdb56bd",
   "metadata": {},
   "outputs": [
    {
     "data": {
      "image/png": "[encoded data removed]",
      "text/plain": [
       "<Figure size 576x576 with 1 Axes>"
      ]
     },
     "metadata": {
      "needs_background": "light"
     },
     "output_type": "display_data"
    }
   ],
   "source": [
    "fig, ax = plt.subplots(figsize=(8,8))\n",
    "ax.scatter(train['central_air'], train['saleprice'])\n",
    "plt.title('Central Air by Sale Price')\n",
    "plt.xlabel('Has Central Air or Not')\n",
    "plt.ylabel('Sale Prce USD')\n",
    "plt.savefig('../images/central_air');"
   ]
  },
  {
   "cell_type": "code",
   "execution_count": 39,
   "id": "d29eca44-c8c5-40e2-a553-3162a2c4d53a",
   "metadata": {},
   "outputs": [
    {
     "data": {
      "text/plain": [
       "saleprice         1.000000\n",
       "overall_qual      0.803420\n",
       "gr_liv_area       0.719370\n",
       "total_bsmt_sf     0.665333\n",
       "garage_area       0.655493\n",
       "garage_cars       0.648663\n",
       "1st_flr_sf        0.648360\n",
       "year_built        0.572652\n",
       "year_remod_add    0.550704\n",
       "full_bath         0.538092\n",
       "garage_yr_blt     0.534928\n",
       "mas_vnr_area      0.511598\n",
       "totrms_abvgrd     0.509572\n",
       "fireplaces        0.473658\n",
       "bsmtfin_sf_1      0.445755\n",
       "lot_frontage      0.346016\n",
       "open_porch_sf     0.338903\n",
       "wood_deck_sf      0.327990\n",
       "lot_area          0.303320\n",
       "bsmt_full_bath    0.284477\n",
       "Name: saleprice, dtype: float64"
      ]
     },
     "execution_count": 39,
     "metadata": {},
     "output_type": "execute_result"
    }
   ],
   "source": [
    "train.corr()['saleprice'].sort_values(ascending=False).head(20)"
   ]
  },
  {
   "cell_type": "code",
   "execution_count": 40,
   "id": "e25ef8cc-6048-4e65-8972-ce12ac107554",
   "metadata": {},
   "outputs": [
    {
     "data": {
      "text/plain": [
       "0.2773679130508617"
      ]
     },
     "execution_count": 40,
     "metadata": {},
     "output_type": "execute_result"
    }
   ],
   "source": [
    "train['saleprice'].corr(train['central_air'])"
   ]
  },
  {
   "cell_type": "code",
   "execution_count": 41,
   "id": "d2283110-f979-4661-b4eb-936f3820625f",
   "metadata": {},
   "outputs": [],
   "source": [
    "mlr = LinearRegression()\n",
    "\n",
    "X = train[['gr_liv_area', 'overall_qual', 'garage_area', 'total_bsmt_sf', 'year_built', 'year_remod_add', 'mas_vnr_area', 'fireplaces',  'bsmtfin_sf_1', 'central_air']]\n",
    "y = train['saleprice']\n",
    "\n",
    "X_train, x_test, y_train, y_test = train_test_split(X, y, train_size = .8, random_state = 6)"
   ]
  },
  {
   "cell_type": "code",
   "execution_count": 42,
   "id": "baf554a8-27a2-474a-b49f-891b64553c0b",
   "metadata": {},
   "outputs": [
    {
     "data": {
      "text/plain": [
       "(0.8525588348993913, 0.8592689236134621)"
      ]
     },
     "execution_count": 42,
     "metadata": {},
     "output_type": "execute_result"
    }
   ],
   "source": [
    "mlr.fit(X_train, y_train)\n",
    "\n",
    "mlr.score(X_train, y_train), mlr.score(x_test, y_test)"
   ]
  },
  {
   "cell_type": "code",
   "execution_count": 43,
   "id": "3fcbc22c-cd90-4ac6-bb26-0d85c3ff1e3a",
   "metadata": {},
   "outputs": [
    {
     "data": {
      "text/plain": [
       "array([    51.3475914 ,  16599.27724596,     41.51806939,     25.23426342,\n",
       "          177.78596971,    406.41180092,     44.30039738,   6964.29997314,\n",
       "           25.4391674 , -10102.01362786])"
      ]
     },
     "execution_count": 43,
     "metadata": {},
     "output_type": "execute_result"
    }
   ],
   "source": [
    "mlr.coef_"
   ]
  },
  {
   "cell_type": "code",
   "execution_count": 44,
   "id": "4c38ae79-50c2-4868-8494-496f2ca02e4b",
   "metadata": {},
   "outputs": [],
   "source": [
    "train_clean = train\n",
    "test_clean = test"
   ]
  },
  {
   "cell_type": "code",
   "execution_count": 45,
   "id": "9725a3a7-acae-432c-8ada-7c5623589547",
   "metadata": {},
   "outputs": [],
   "source": [
    "train_clean.to_csv('../datasets/train_clean.csv', index = False)\n",
    "test_clean.to_csv('../datasets/test_clean.csv', index = False)"
   ]
  },
  {
   "cell_type": "markdown",
   "id": "107d72de-9e05-4baa-89c5-3a149479a759",
   "metadata": {},
   "source": [
    "## Categorical Data"
   ]
  },
  {
   "cell_type": "markdown",
   "id": "a6a99d5c-c38a-4248-baa9-aefc5df19d49",
   "metadata": {},
   "source": [
    "##### Will preprocess in next notebook.\n",
    "- Paved Driveway\n",
    "- Neighborhood"
   ]
  },
  {
   "cell_type": "code",
   "execution_count": null,
   "id": "42f398c6-6afd-479f-bff4-eb4918a867a7",
   "metadata": {},
   "outputs": [],
   "source": []
  }
 ],
 "metadata": {
  "kernelspec": {
   "display_name": "Python 3 (ipykernel)",
   "language": "python",
   "name": "python3"
  },
  "language_info": {
   "codemirror_mode": {
    "name": "ipython",
    "version": 3
   },
   "file_extension": ".py",
   "mimetype": "text/x-python",
   "name": "python",
   "nbconvert_exporter": "python",
   "pygments_lexer": "ipython3",
   "version": "3.9.12"
  }
 },
 "nbformat": 4,
 "nbformat_minor": 5
}
